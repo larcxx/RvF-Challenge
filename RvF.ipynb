{
 "cells": [
  {
   "cell_type": "markdown",
   "metadata": {},
   "source": [
    "# RvF: Real vs Fake face Detection"
   ]
  },
  {
   "cell_type": "markdown",
   "metadata": {},
   "source": [
    "## Getting Started\n",
    "\n",
    "To understand CNN theoretically, other than using online resources, you can refer to [CNN Crash Course (U-M Only)](https://docs.google.com/presentation/d/1p3EWFMfTNT773PEt3q16tlLxQ4FuD-JTwnTj1A_N4a0/edit?usp=sharing)\n",
    "\n",
    "Here is also a guide on [PyTorch for CNNS](https://github.com/MichiganDataScienceTeam/W24-RvF/blob/main/notebooks/pytorch_cnn.ipynb)"
   ]
  },
  {
   "cell_type": "code",
   "execution_count": null,
   "metadata": {},
   "outputs": [],
   "source": [
    "import torch\n",
    "import torchvision.transforms.v2 as v2\n",
    "import torch\n",
    "from torch import nn, optim\n",
    "from starter_code.dataset import RvFDataset, get_loaders\n",
    "from starter_code.train import train_model, plot_performance, load_model"
   ]
  },
  {
   "cell_type": "markdown",
   "metadata": {},
   "source": [
    "## Step 1: Define Preprocessing\n",
    "\n",
    "There are numerous advantages for preprocessing, depending on the topic of your program. For our project on CNN for RvF, the two major benefits of preprocessing are:\n",
    "\n",
    "### Normalization\n",
    "Normalization brings features onto a similar scale, preventing certain features from dominating the learning process due to larger magnitude. By normalizing the data, we ensure that each feature contributes proportionally to the learning process, leading to efficient convergence and model generalization.\n",
    "\n",
    "### Generalization\n",
    "Preprocessing techniques help to generalize the model better to unseen data by introducing variability in the training images. This prevents the model from overfitting to the training data. Examples of such preprocessing are random crop, random jitter, etc.\n",
    "\n",
    "Here is a more detailed guide on [Image Preprocessing](https://github.com/MichiganDataScienceTeam/W24-RvF/blob/main/notebooks/image_preprocessing.ipynb)."
   ]
  },
  {
   "cell_type": "code",
   "execution_count": 4,
   "metadata": {},
   "outputs": [],
   "source": [
    "# load training dataset\n",
    "train_dataset = RvFDataset(\"train\", data_directory = \"data/rvf10k\")"
   ]
  },
  {
   "cell_type": "code",
   "execution_count": 5,
   "metadata": {},
   "outputs": [
    {
     "name": "stderr",
     "output_type": "stream",
     "text": [
      "/opt/anaconda3/envs/esgdata/lib/python3.13/site-packages/torchvision/transforms/v2/_deprecated.py:42: UserWarning: The transform `ToTensor()` is deprecated and will be removed in a future release. Instead, please use `v2.Compose([v2.ToImage(), v2.ToDtype(torch.float32, scale=True)])`.Output is equivalent up to float precision.\n",
      "  warnings.warn(\n"
     ]
    }
   ],
   "source": [
    "# normalization is implemented for you, which is called in the next cell\n",
    "mean = torch.zeros((3,))\n",
    "variance = torch.zeros((3,))\n",
    "tensor_converter = v2.ToTensor()\n",
    "\n",
    "for image, _ in train_dataset:\n",
    "    mean += tensor_converter(image).mean(dim=(1, 2))\n",
    "    mean /= len(train_dataset)\n",
    "for image, _ in train_dataset:\n",
    "    image = tensor_converter(image)\n",
    "    variance += ((image - mean.view(3, 1, 1))**2).mean(dim=(1, 2))\n",
    "\n",
    "std = torch.sqrt(variance / len(train_dataset))"
   ]
  },
  {
   "cell_type": "code",
   "execution_count": 56,
   "metadata": {},
   "outputs": [
    {
     "data": {
      "text/plain": [
       "torch.Size([3, 256, 256])"
      ]
     },
     "execution_count": 56,
     "metadata": {},
     "output_type": "execute_result"
    }
   ],
   "source": [
    "train_dataset[0][0].shape"
   ]
  },
  {
   "cell_type": "markdown",
   "metadata": {},
   "source": [
    "### TODO1: Define Your Preprocessing"
   ]
  },
  {
   "cell_type": "code",
   "execution_count": 6,
   "metadata": {},
   "outputs": [],
   "source": [
    "def preprocess(image) -> torch.Tensor:\n",
    "\n",
    "    \"\"\"\n",
    "    Preprocesses an image by applying a series of transformation.\n",
    "\n",
    "    Args:\n",
    "        image (npt.ArrayLike): The input image to be preprocessed.\n",
    "\n",
    "    Returns:\n",
    "        torch.Tensor: The preprocessed image as a tensor.\n",
    "    \"\"\"\n",
    "\n",
    "    tensor = torch.tensor(image, dtype = torch.float32).permute(2, 0, 1) # convert image to tensor\n",
    "\n",
    "    tensor = v2.Normalize(mean = mean, std = std)(tensor)\n",
    "\n",
    "    # TODO: Add more preprocessing steps to improve model performance.\n",
    "    \n",
    "    \n",
    "    return tensor"
   ]
  },
  {
   "cell_type": "markdown",
   "metadata": {},
   "source": [
    "## Step 2: Model Definition\n",
    "\n",
    "Below is an example of a class definition in Python for a very simple convolutional neural network called BasicCNN. Let's break its components down."
   ]
  },
  {
   "cell_type": "code",
   "execution_count": null,
   "metadata": {},
   "outputs": [],
   "source": [
    "class BasicCNN(nn.Module): # Net inherits from nn.Module\n",
    "    def __init__(self):\n",
    "        \"\"\"Constructor for the neural network.\"\"\"\n",
    "        super(BasicCNN, self).__init__()        # Call superclass constructor\n",
    "        self.conv1 = nn.Conv2d(in_channels=1, out_channels=16, kernel_size=3, stride=1)\n",
    "        self.conv2 = nn.Conv2d(in_channels=16, out_channels=128, kernel_size=3, stride=1)\n",
    "        self.pool = nn.MaxPool2d(kernel_size=2, stride=2)\n",
    "        self.relu = nn.ReLU()              \n",
    "        self.flatten = nn.Flatten()\n",
    "        self.fc = nn.Linear(3200, 10)\n",
    "\n",
    "    def forward(self, x):\n",
    "        z1 = self.conv1(x)\n",
    "        h1 = self.relu(z1)\n",
    "        p1 = self.pool(h1)\n",
    "\n",
    "        z2 = self.conv2(p1)\n",
    "        h2 = self.relu(z2)\n",
    "        p2 = self.pool(h2)\n",
    "\n",
    "        flat = self.flatten(p2)\n",
    "        z = self.fc(flat)\n",
    "\n",
    "        return z"
   ]
  },
  {
   "cell_type": "markdown",
   "metadata": {},
   "source": [
    "#### Subclass Inheritance"
   ]
  },
  {
   "cell_type": "markdown",
   "metadata": {},
   "source": [
    "This first criteria is met by defining the subclass relationship between `BasicCNN` and `nn.Module`\n",
    "- When we write the first line of the class defintion, we write `BasicCNN(nn.Module):` to indicate that `BasicCNN` is a subclass of `nn.Module`\n",
    "- On line 4, we call the superclass constructor for this model:\n",
    "  \n",
    "  ```py\n",
    "    super(BasicCNN, self).__init__() \n",
    "  ```"
   ]
  },
  {
   "cell_type": "markdown",
   "metadata": {},
   "source": [
    "#### Layer Definition"
   ]
  },
  {
   "cell_type": "markdown",
   "metadata": {},
   "source": [
    "For PyTorch to recognize that a layer is a part of our model, we must add all them as **member variables** of the `BasicCNN`. This can be done in the class constructor `__init__()` by evoking the `self` pointer:\n",
    "\n",
    "```py\n",
    "self.conv1 = nn.Conv2d(in_channels=1, out_channels=16, kernel_size=3, stride=1)\n",
    "self.conv2 = nn.Conv2d(in_channels=16, out_channels=128, kernel_size=3, stride=1)\n",
    "self.pool = nn.MaxPool2d(kernel_size=2, stride=2)\n",
    "self.relu = nn.ReLU()              \n",
    "self.flatten = nn.Flatten()\n",
    "self.fc = nn.Linear(3200, 10) \n",
    "```\n",
    "\n",
    "This code defines 5 layers for our model:\n",
    "- `conv1`: convolution layer that expects 1 channel and has 16 filters with filter size of 3 pixels and a stride of 1\n",
    "- `conv2`: convolution layer that expects 16 channel and has 128 filters with filter size of 3 pixels and a stride of 1\n",
    "- `pool`: max pooling layer that has a window size of 2 and a stride of 2. We will reuse this layer multiple times (since max pooling is stateless)\n",
    "- `relu`: activation layer using the ReLU activation function. We will reuse this activation layer multiple times (since activation functions are stateless)\n",
    "- `fc`: a dense layer that expects a vector with 3200 components and returns a vector with 10 components (one for each of the 10 classes in the MNIST dataset)"
   ]
  },
  {
   "cell_type": "markdown",
   "metadata": {},
   "source": [
    "#### Defining the Forward Pass"
   ]
  },
  {
   "cell_type": "markdown",
   "metadata": {},
   "source": [
    "The third criteria is more tricky - we have to define a function called `forward()` that specifies _how_ to call each layer and make predictions for some input image. For the model above, we have the following definition for this function\n",
    "\n",
    "```py\n",
    "def forward(self, x):\n",
    "   z1 = self.conv1(x)\n",
    "   h1 = self.relu(z1)\n",
    "   p1 = self.pool(h1)\n",
    "\n",
    "   z2 = self.conv2(p1)\n",
    "   h2 = self.relu(z2)\n",
    "   p2 = self.pool(h2)\n",
    "\n",
    "   flat = self.flatten(p2)\n",
    "   z = self.fc(flat)\n",
    "\n",
    "   return z\n",
    "```\n",
    "\n",
    "Let's break down the first few lines of this function:\n",
    "1. The `forward()` function takes as input the parameters\n",
    "   1. `self` - is the self-pointer, is equivalent to `this` in C++\n",
    "   2. `x` - the input to the model - in this case an image of a handwritten digit.\n",
    "2. The image `x` is immediately passed as input into the first convolution layer `conv1` to perform convolution. The output of this convolution layer is saved to the local variable `z1`.\n",
    "   1. Note that in this case, `self.conv` is actually a **functor** - it is an object that can be called like a function to produce an output\n",
    "3. The convolution layer output `z1` is passed through the ReLU activation layer to get the activated outputs `h1`\n",
    "4. The activated output has max pooling applied to downsample it, and the output is then saved the result to `p1`.\n",
    "5. The pooled output is passed as input the second convolution layer `conv2` to perform another round of convolution. The output of this convolution layer is saved to the local variable `z2`\n",
    "   1. 🚨 As `p1` has 16 channels, we MUST define `conv2` to accept 16 input channels. It is SUPER important to be careful to make sure that your input to your convolution layer has the correct number of channels, otherwise PyTorch will throw errors!\n",
    "6. ...\n",
    "\n",
    "And so forth! "
   ]
  },
  {
   "cell_type": "markdown",
   "metadata": {},
   "source": [
    "### TODO2: Define Your Model"
   ]
  },
  {
   "cell_type": "markdown",
   "metadata": {},
   "source": [
    "Here are the restrictions:\n",
    "- your first convolution layer must accept images that have only 4 channels\n",
    "- your last convolution layer must accept images that have only 256 channels\n",
    "- your CNN output should return a vector with 2 entries\n",
    "- if you find difficulties in understanding the model, visit [Pytorch and CNN](https://github.com/MichiganDataScienceTeam/W24-RvF/blob/main/notebooks/pytorch_cnn.ipynb)\n",
    "\n",
    "Other than that, you have as much flexibility as you prefer for how you want to define your model!"
   ]
  },
  {
   "cell_type": "code",
   "execution_count": null,
   "metadata": {},
   "outputs": [],
   "source": [
    "class Model(torch.nn.Module):\n",
    "    def __init__(self):\n",
    "      \"\"\"Constructor for the neural network.\"\"\"\n",
    "      super(Model, self).__init__()        # Call superclass constructor\n",
    "\n",
    "      # A few preprocessing ... \n",
    "      # You are free to add more or delete \n",
    "\n",
    "      self.channel_adjust = nn.Conv2d(in_channels=3, out_channels=4, kernel_size=1, stride=1, padding=0)\n",
    "      self.conv_block1 = nn.Sequential(\n",
    "        nn.Conv2d(in_channels=4, out_channels=64, kernel_size=3, padding=1),\n",
    "        nn.ReLU(),\n",
    "        nn.MaxPool2d(kernel_size=2, stride=2)\n",
    "      )\n",
    "      self.conv_block2 = nn.Sequential(\n",
    "        nn.Conv2d(in_channels=64, out_channels=256, kernel_size=3, padding=1),\n",
    "        nn.ReLU(),\n",
    "        nn.MaxPool2d(kernel_size=2, stride=2) \n",
    "      )\n",
    "      self.last_conv_layer = nn.Sequential(\n",
    "        nn.Conv2d(in_channels=256, out_channels=512, kernel_size=3, padding=1),\n",
    "        nn.ReLU(),\n",
    "        nn.MaxPool2d(kernel_size=2, stride=2) \n",
    "      )\n",
    "      self.flatten = nn.Flatten()\n",
    "      self.dense_layers = nn.Sequential(\n",
    "        nn.Linear(512 * 32 * 32, 1024),\n",
    "        nn.ReLU(),\n",
    "        nn.Dropout(0.5),\n",
    "        nn.Linear(1024, 2)\n",
    "      )\n",
    "\n",
    "    def forward(self, x):\n",
    "      \n",
    "      x = self.channel_adjust(x)\n",
    "      x = self.conv_block1(x)\n",
    "      x = self.conv_block2(x)\n",
    "      x = self.last_conv_layer(x)\n",
    "      \n",
    "      x = self.flatten(x)\n",
    "      x = self.dense_layers(x)\n",
    "      \n",
    "      return x\n"
   ]
  },
  {
   "cell_type": "markdown",
   "metadata": {},
   "source": [
    "## Step 3: Model Training\n"
   ]
  },
  {
   "cell_type": "markdown",
   "metadata": {},
   "source": [
    "For model training, we utilized functions wirtten in starter_code directory located under \"Optional-Challenge/RvF\". They are ready to use, and feel free to refer back to them."
   ]
  },
  {
   "cell_type": "code",
   "execution_count": null,
   "metadata": {},
   "outputs": [
    {
     "name": "stderr",
     "output_type": "stream",
     "text": [
      "Batch Accuracy: 0.62 , Total Accuracy: 0.51: 100%|██████████| 438/438 [35:16<00:00,  4.83s/it]\n"
     ]
    },
    {
     "name": "stdout",
     "output_type": "stream",
     "text": [
      "Epoch 1: Loss - (Train 3564.54/Val 0.04), Accuracy - (Train 0.51/Val 0.52)\n"
     ]
    },
    {
     "name": "stderr",
     "output_type": "stream",
     "text": [
      "Batch Accuracy: 0.75 , Total Accuracy: 0.54: 100%|██████████| 438/438 [3:37:27<00:00, 29.79s/it]   \n"
     ]
    },
    {
     "name": "stdout",
     "output_type": "stream",
     "text": [
      "Epoch 2: Loss - (Train 316.81/Val 0.04), Accuracy - (Train 0.54/Val 0.54)\n"
     ]
    },
    {
     "name": "stderr",
     "output_type": "stream",
     "text": [
      "Batch Accuracy: 0.75 , Total Accuracy: 0.57: 100%|██████████| 438/438 [34:04<00:00,  4.67s/it]\n"
     ]
    },
    {
     "name": "stdout",
     "output_type": "stream",
     "text": [
      "Epoch 3: Loss - (Train 294.98/Val 0.05), Accuracy - (Train 0.57/Val 0.55)\n"
     ]
    },
    {
     "name": "stderr",
     "output_type": "stream",
     "text": [
      "Batch Accuracy: 0.75 , Total Accuracy: 0.60: 100%|██████████| 438/438 [38:40<00:00,  5.30s/it]\n"
     ]
    },
    {
     "name": "stdout",
     "output_type": "stream",
     "text": [
      "Epoch 4: Loss - (Train 285.51/Val 0.05), Accuracy - (Train 0.60/Val 0.57)\n"
     ]
    },
    {
     "name": "stderr",
     "output_type": "stream",
     "text": [
      "Batch Accuracy: 0.50 , Total Accuracy: 0.63: 100%|██████████| 438/438 [41:37<00:00,  5.70s/it]\n"
     ]
    },
    {
     "name": "stdout",
     "output_type": "stream",
     "text": [
      "Epoch 5: Loss - (Train 270.37/Val 0.05), Accuracy - (Train 0.63/Val 0.56)\n"
     ]
    },
    {
     "name": "stderr",
     "output_type": "stream",
     "text": [
      "Batch Accuracy: 0.38 , Total Accuracy: 0.68: 100%|██████████| 438/438 [55:21<00:00,  7.58s/it]   \n"
     ]
    },
    {
     "name": "stdout",
     "output_type": "stream",
     "text": [
      "Epoch 6: Loss - (Train 249.14/Val 0.05), Accuracy - (Train 0.68/Val 0.58)\n"
     ]
    },
    {
     "name": "stderr",
     "output_type": "stream",
     "text": [
      "Batch Accuracy: 0.75 , Total Accuracy: 0.72: 100%|██████████| 438/438 [1:30:05<00:00, 12.34s/it]  \n"
     ]
    },
    {
     "name": "stdout",
     "output_type": "stream",
     "text": [
      "Epoch 7: Loss - (Train 227.49/Val 0.06), Accuracy - (Train 0.72/Val 0.59)\n"
     ]
    },
    {
     "name": "stderr",
     "output_type": "stream",
     "text": [
      "Batch Accuracy: 0.75 , Total Accuracy: 0.76: 100%|██████████| 438/438 [37:10<00:00,  5.09s/it]\n"
     ]
    },
    {
     "name": "stdout",
     "output_type": "stream",
     "text": [
      "Epoch 8: Loss - (Train 201.17/Val 0.08), Accuracy - (Train 0.76/Val 0.61)\n"
     ]
    },
    {
     "name": "stderr",
     "output_type": "stream",
     "text": [
      "Batch Accuracy: 0.62 , Total Accuracy: 0.78: 100%|██████████| 438/438 [37:28<00:00,  5.13s/it]\n"
     ]
    },
    {
     "name": "stdout",
     "output_type": "stream",
     "text": [
      "Epoch 9: Loss - (Train 218.62/Val 0.07), Accuracy - (Train 0.78/Val 0.56)\n"
     ]
    },
    {
     "name": "stderr",
     "output_type": "stream",
     "text": [
      "Batch Accuracy: 0.62 , Total Accuracy: 0.76: 100%|██████████| 438/438 [39:17<00:00,  5.38s/it]\n"
     ]
    },
    {
     "name": "stdout",
     "output_type": "stream",
     "text": [
      "Epoch 10: Loss - (Train 237.19/Val 0.08), Accuracy - (Train 0.76/Val 0.56)\n"
     ]
    },
    {
     "ename": "TypeError",
     "evalue": "'PosixPath' object is not callable",
     "output_type": "error",
     "traceback": [
      "\u001b[31m---------------------------------------------------------------------------\u001b[39m",
      "\u001b[31mTypeError\u001b[39m                                 Traceback (most recent call last)",
      "\u001b[36mCell\u001b[39m\u001b[36m \u001b[39m\u001b[32mIn[60]\u001b[39m\u001b[32m, line 12\u001b[39m\n\u001b[32m      9\u001b[39m plot_performance(history)\n\u001b[32m     11\u001b[39m \u001b[38;5;66;03m# Load the model from the training run\u001b[39;00m\n\u001b[32m---> \u001b[39m\u001b[32m12\u001b[39m \u001b[43mload_model\u001b[49m\u001b[43m(\u001b[49m\u001b[43mmodel\u001b[49m\u001b[43m,\u001b[49m\u001b[43m \u001b[49m\u001b[33;43m\"\u001b[39;49m\u001b[33;43mcheckpoints\u001b[39;49m\u001b[33;43m\"\u001b[39;49m\u001b[43m,\u001b[49m\u001b[43m \u001b[49m\u001b[32;43m10\u001b[39;49m\u001b[43m)\u001b[49m \u001b[38;5;66;03m# you can modify the number of epochs, currently set at 10\u001b[39;00m\n",
      "\u001b[36mFile \u001b[39m\u001b[32m~/Downloads/RvF-Challenge-master/starter_code/train.py:69\u001b[39m, in \u001b[36mload_model\u001b[39m\u001b[34m(model, checkpoint_dir, epoch, map_location)\u001b[39m\n\u001b[32m     65\u001b[39m model_file = checkpoint_dir / model.\u001b[34m__class__\u001b[39m.\u001b[34m__name__\u001b[39m / \u001b[33mf\u001b[39m\u001b[33m\"\u001b[39m\u001b[33mmodel_\u001b[39m\u001b[38;5;132;01m{\u001b[39;00mepoch\u001b[38;5;132;01m}\u001b[39;00m\u001b[33m.pt\u001b[39m\u001b[33m\"\u001b[39m\n\u001b[32m     67\u001b[39m \u001b[38;5;28;01mif\u001b[39;00m \u001b[38;5;129;01mnot\u001b[39;00m model_file.exists():\n\u001b[32m     68\u001b[39m     \u001b[38;5;28;01mraise\u001b[39;00m \u001b[38;5;167;01mFileNotFoundError\u001b[39;00m(\n\u001b[32m---> \u001b[39m\u001b[32m69\u001b[39m         \u001b[33mf\u001b[39m\u001b[33m\"\u001b[39m\u001b[33mModel at epoch \u001b[39m\u001b[38;5;132;01m{\u001b[39;00mepoch\u001b[38;5;132;01m}\u001b[39;00m\u001b[33m in directory \u001b[39m\u001b[38;5;132;01m{\u001b[39;00m\u001b[38;5;28mstr\u001b[39m(\u001b[43mmodel_file\u001b[49m\u001b[43m.\u001b[49m\u001b[43mparent\u001b[49m\u001b[43m(\u001b[49m\u001b[43m)\u001b[49m)\u001b[38;5;132;01m}\u001b[39;00m\u001b[33m does not exist.\u001b[39m\u001b[33m\"\u001b[39m\n\u001b[32m     70\u001b[39m     )\n\u001b[32m     72\u001b[39m model.load_state_dict(\n\u001b[32m     73\u001b[39m     torch.load(model_file, map_location=torch.device(map_location))\n\u001b[32m     74\u001b[39m )\n",
      "\u001b[31mTypeError\u001b[39m: 'PosixPath' object is not callable"
     ]
    },
    {
     "data": {
      "image/png": "[encoded data removed]",
      "text/plain": [
       "<Figure size 1500x500 with 2 Axes>"
      ]
     },
     "metadata": {},
     "output_type": "display_data"
    }
   ],
   "source": [
    "train_loader, val_loader = get_loaders(batch_size = 16, preprocessor = preprocess, data_directory = \"data/rvf10k\")\n",
    "\n",
    "model = Model()\n",
    "\n",
    "optimizer = torch.optim.Adam(model.parameters(), lr = 5e-4) # TODO: Change the optimizer to explore different options\n",
    "criterion = torch.nn.CrossEntropyLoss() # TODO: Change the criterion to explore different options\n",
    "\n",
    "history = train_model(model, criterion, optimizer, train_loader, val_loader)\n",
    "plot_performance(history)\n",
    "\n",
    "# Load the model from the training run\n",
    "load_model(model, \"checkpoints\", 10) # you can modify the number of epochs, currently set at 10\n",
    "\n",
    "#there's an error at the bottom because my laptop turned off mid way"
   ]
  },
  {
   "cell_type": "markdown",
   "metadata": {},
   "source": [
    "This is the end of RvF challenge! Please save your file and submit your work."
   ]
  }
 ],
 "metadata": {
  "kernelspec": {
   "display_name": "esgdata",
   "language": "python",
   "name": "python3"
  },
  "language_info": {
   "codemirror_mode": {
    "name": "ipython",
    "version": 3
   },
   "file_extension": ".py",
   "mimetype": "text/x-python",
   "name": "python",
   "nbconvert_exporter": "python",
   "pygments_lexer": "ipython3",
   "version": "3.13.5"
  }
 },
 "nbformat": 4,
 "nbformat_minor": 2
}
